{
 "cells": [
  {
   "cell_type": "code",
   "execution_count": 7,
   "metadata": {
    "collapsed": true
   },
   "outputs": [],
   "source": [
    "import numpy as np\n",
    "import matplotlib.pyplot as plt\n",
    "%matplotlib inline\n",
    "from sklearn.decomposition import PCA"
   ]
  },
  {
   "cell_type": "code",
   "execution_count": 35,
   "metadata": {},
   "outputs": [],
   "source": [
    "embedding = np.load('./embedding_interp.npy')\n",
    "files = np.load('./files_interp.npy')"
   ]
  },
  {
   "cell_type": "code",
   "execution_count": 36,
   "metadata": {},
   "outputs": [],
   "source": [
    "feat = embedding[:, 0, :]"
   ]
  },
  {
   "cell_type": "code",
   "execution_count": 37,
   "metadata": {},
   "outputs": [],
   "source": [
    "pca = PCA()\n",
    "X = pca.fit_transform(feat)"
   ]
  },
  {
   "cell_type": "code",
   "execution_count": 38,
   "metadata": {},
   "outputs": [
    {
     "data": {
      "text/plain": [
       "<matplotlib.collections.PathCollection at 0x120d8acc0>"
      ]
     },
     "execution_count": 38,
     "metadata": {},
     "output_type": "execute_result"
    },
    {
     "data": {
      "image/png": "[encoded data removed]",
      "text/plain": [
       "<matplotlib.figure.Figure at 0x11fa59cc0>"
      ]
     },
     "metadata": {},
     "output_type": "display_data"
    }
   ],
   "source": [
    "plt.scatter(*X[:, :2].T)"
   ]
  },
  {
   "cell_type": "code",
   "execution_count": 31,
   "metadata": {},
   "outputs": [],
   "source": [
    "names = [file.replace('../../solo_sounds/', '').replace('.mp3', '') for file in files]"
   ]
  },
  {
   "cell_type": "code",
   "execution_count": 32,
   "metadata": {},
   "outputs": [
    {
     "data": {
      "text/plain": [
       "['Balafon2_Bright',\n",
       " 'Bass_Trombone_Solo',\n",
       " 'Clarinet_Combi',\n",
       " 'Clav6_Bright',\n",
       " 'Clean3_Chorus_Guitar',\n",
       " 'Concert_Flute_Solo_Legato_Vibrato',\n",
       " 'Cuba_Trumpet',\n",
       " 'Double_Bass_Solo_Staccato',\n",
       " 'Dual_Osc6_Vibrato_Bass',\n",
       " 'Guitar-Dual_Amped_Heavy',\n",
       " 'Guitar-Reverse_FX',\n",
       " 'Hammer_Dulcimer',\n",
       " 'Harp',\n",
       " 'Low_Wow',\n",
       " 'Marimba1_Classic',\n",
       " 'Pan_Flute_Winds',\n",
       " 'Piccolo_Solo_Legato_Vibrato',\n",
       " 'Plastic_Vibraphone',\n",
       " 'Plucked',\n",
       " 'Rhythmic_Octaves_Bass',\n",
       " 'Shamisen',\n",
       " 'Sneaky_Bass',\n",
       " 'So_High',\n",
       " 'Suitar_Guitar',\n",
       " 'Upright_Bass',\n",
       " 'Violin_Solo',\n",
       " 'Wurly_Speaker',\n",
       " 'cat',\n",
       " 'cow',\n",
       " 'dog',\n",
       " 'goose',\n",
       " 'thunder']"
      ]
     },
     "execution_count": 32,
     "metadata": {},
     "output_type": "execute_result"
    }
   ],
   "source": [
    "names"
   ]
  },
  {
   "cell_type": "code",
   "execution_count": 33,
   "metadata": {},
   "outputs": [
    {
     "data": {
      "text/plain": [
       "30"
      ]
     },
     "execution_count": 33,
     "metadata": {},
     "output_type": "execute_result"
    }
   ],
   "source": [
    "names.index('goose')"
   ]
  },
  {
   "cell_type": "code",
   "execution_count": null,
   "metadata": {
    "collapsed": true
   },
   "outputs": [],
   "source": []
  }
 ],
 "metadata": {
  "kernelspec": {
   "display_name": "Python 3",
   "language": "python",
   "name": "python3"
  },
  "language_info": {
   "codemirror_mode": {
    "name": "ipython",
    "version": 3
   },
   "file_extension": ".py",
   "mimetype": "text/x-python",
   "name": "python",
   "nbconvert_exporter": "python",
   "pygments_lexer": "ipython3",
   "version": "3.6.1"
  }
 },
 "nbformat": 4,
 "nbformat_minor": 2
}
