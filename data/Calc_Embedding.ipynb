{
 "cells": [
  {
   "cell_type": "code",
   "execution_count": 2,
   "metadata": {
    "collapsed": true
   },
   "outputs": [],
   "source": [
    "import numpy as np\n",
    "import matplotlib.pyplot as plt\n",
    "%matplotlib inline\n",
    "from sklearn.decomposition import PCA"
   ]
  },
  {
   "cell_type": "code",
   "execution_count": 3,
   "metadata": {
    "collapsed": true
   },
   "outputs": [],
   "source": [
    "embedding = np.load('./embedding_interp.npy')\n",
    "files = np.load('./files_interp.npy')"
   ]
  },
  {
   "cell_type": "code",
   "execution_count": 10,
   "metadata": {
    "collapsed": true
   },
   "outputs": [],
   "source": [
    "feat = embedding.reshape((1275, -1))"
   ]
  },
  {
   "cell_type": "code",
   "execution_count": 11,
   "metadata": {},
   "outputs": [
    {
     "data": {
      "text/plain": [
       "(1275, 125, 16)"
      ]
     },
     "execution_count": 11,
     "metadata": {},
     "output_type": "execute_result"
    }
   ],
   "source": [
    "embedding.shape"
   ]
  },
  {
   "cell_type": "code",
   "execution_count": 14,
   "metadata": {
    "collapsed": true
   },
   "outputs": [],
   "source": [
    "pca = PCA()\n",
    "X = pca.fit_transform(feat)"
   ]
  },
  {
   "cell_type": "code",
   "execution_count": 13,
   "metadata": {},
   "outputs": [
    {
     "data": {
      "text/plain": [
       "<matplotlib.collections.PathCollection at 0x11fa60eb8>"
      ]
     },
     "execution_count": 13,
     "metadata": {},
     "output_type": "execute_result"
    },
    {
     "data": {
      "image/png": "[encoded data removed]",
      "text/plain": [
       "<matplotlib.figure.Figure at 0x113353320>"
      ]
     },
     "metadata": {},
     "output_type": "display_data"
    }
   ],
   "source": [
    "plt.scatter(*X[:, :2].T)"
   ]
  },
  {
   "cell_type": "code",
   "execution_count": 31,
   "metadata": {
    "collapsed": true
   },
   "outputs": [],
   "source": [
    "names = [file.replace('../../solo_sounds/', '').replace('.mp3', '') for file in files]"
   ]
  },
  {
   "cell_type": "code",
   "execution_count": 32,
   "metadata": {},
   "outputs": [
    {
     "data": {
      "text/plain": [
       "['Balafon2_Bright',\n",
       " 'Bass_Trombone_Solo',\n",
       " 'Clarinet_Combi',\n",
       " 'Clav6_Bright',\n",
       " 'Clean3_Chorus_Guitar',\n",
       " 'Concert_Flute_Solo_Legato_Vibrato',\n",
       " 'Cuba_Trumpet',\n",
       " 'Double_Bass_Solo_Staccato',\n",
       " 'Dual_Osc6_Vibrato_Bass',\n",
       " 'Guitar-Dual_Amped_Heavy',\n",
       " 'Guitar-Reverse_FX',\n",
       " 'Hammer_Dulcimer',\n",
       " 'Harp',\n",
       " 'Low_Wow',\n",
       " 'Marimba1_Classic',\n",
       " 'Pan_Flute_Winds',\n",
       " 'Piccolo_Solo_Legato_Vibrato',\n",
       " 'Plastic_Vibraphone',\n",
       " 'Plucked',\n",
       " 'Rhythmic_Octaves_Bass',\n",
       " 'Shamisen',\n",
       " 'Sneaky_Bass',\n",
       " 'So_High',\n",
       " 'Suitar_Guitar',\n",
       " 'Upright_Bass',\n",
       " 'Violin_Solo',\n",
       " 'Wurly_Speaker',\n",
       " 'cat',\n",
       " 'cow',\n",
       " 'dog',\n",
       " 'goose',\n",
       " 'thunder']"
      ]
     },
     "execution_count": 32,
     "metadata": {},
     "output_type": "execute_result"
    }
   ],
   "source": [
    "names"
   ]
  },
  {
   "cell_type": "code",
   "execution_count": 33,
   "metadata": {},
   "outputs": [
    {
     "data": {
      "text/plain": [
       "30"
      ]
     },
     "execution_count": 33,
     "metadata": {},
     "output_type": "execute_result"
    }
   ],
   "source": [
    "names.index('goose')"
   ]
  },
  {
   "cell_type": "code",
   "execution_count": 16,
   "metadata": {},
   "outputs": [
    {
     "data": {
      "text/plain": [
       "array(['Bass_Trombone_Solo_Guitar-Dual_Amped_Heavy/0_60.mp3',\n",
       "       'Bass_Trombone_Solo_Guitar-Dual_Amped_Heavy/1_60.mp3',\n",
       "       'Bass_Trombone_Solo_Guitar-Dual_Amped_Heavy/2_60.mp3', ...,\n",
       "       'Marimba1_Classic_dog/2_60.mp3', 'Marimba1_Classic_dog/3_60.mp3',\n",
       "       'Marimba1_Classic_dog/4_60.mp3'], dtype='<U66')"
      ]
     },
     "execution_count": 16,
     "metadata": {},
     "output_type": "execute_result"
    }
   ],
   "source": []
  },
  {
   "cell_type": "code",
   "execution_count": 122,
   "metadata": {},
   "outputs": [],
   "source": [
    "origin = feat[0]\n",
    "target = feat[1] + np.random.random(origin.shape) * 0.1\n",
    "# target = feat[1]\n",
    "delta = origin - target"
   ]
  },
  {
   "cell_type": "code",
   "execution_count": 123,
   "metadata": {},
   "outputs": [],
   "source": [
    "deltas = feat - target"
   ]
  },
  {
   "cell_type": "code",
   "execution_count": 124,
   "metadata": {},
   "outputs": [],
   "source": [
    "cossim = np.matmul(delta, deltas.T) / (np.linalg.norm(delta) * np.linalg.norm(deltas, axis=1))"
   ]
  },
  {
   "cell_type": "code",
   "execution_count": 125,
   "metadata": {},
   "outputs": [
    {
     "data": {
      "text/plain": [
       "array([ 1.        ,  0.26993197, -0.9560461 , ...,  0.14147948,\n",
       "        0.08658993,  0.00801754])"
      ]
     },
     "execution_count": 125,
     "metadata": {},
     "output_type": "execute_result"
    }
   ],
   "source": [
    "cossim"
   ]
  },
  {
   "cell_type": "code",
   "execution_count": 126,
   "metadata": {},
   "outputs": [
    {
     "data": {
      "text/plain": [
       "(array([ 71.,  10.,  22.,  13.,  76., 197., 662., 132.,  51.,  41.]),\n",
       " array([-0.98081237, -0.78273113, -0.58464989, -0.38656866, -0.18848742,\n",
       "         0.00959382,  0.20767505,  0.40575629,  0.60383753,  0.80191876,\n",
       "         1.        ]),\n",
       " <a list of 10 Patch objects>)"
      ]
     },
     "execution_count": 126,
     "metadata": {},
     "output_type": "execute_result"
    },
    {
     "data": {
      "image/png": "[encoded data removed]",
      "text/plain": [
       "<matplotlib.figure.Figure at 0x1208432b0>"
      ]
     },
     "metadata": {},
     "output_type": "display_data"
    }
   ],
   "source": [
    "plt.hist(cossim[np.isnan(cossim) == False])"
   ]
  },
  {
   "cell_type": "code",
   "execution_count": 127,
   "metadata": {},
   "outputs": [],
   "source": [
    "cand = np.arange(len(cossim))[(cossim < -0.8) & (np.isnan(cossim) == False)]"
   ]
  },
  {
   "cell_type": "code",
   "execution_count": 128,
   "metadata": {
    "collapsed": true
   },
   "outputs": [],
   "source": [
    "cand_feat = feat[cand]\n",
    "cand_deltas = deltas[cand]"
   ]
  },
  {
   "cell_type": "code",
   "execution_count": 129,
   "metadata": {},
   "outputs": [],
   "source": [
    "dest_index = np.argsort(np.linalg.norm(cand_deltas, axis=1))[0]"
   ]
  },
  {
   "cell_type": "code",
   "execution_count": 130,
   "metadata": {},
   "outputs": [],
   "source": [
    "dest_feat = cand_feat[dest_index]"
   ]
  },
  {
   "cell_type": "code",
   "execution_count": 131,
   "metadata": {},
   "outputs": [
    {
     "data": {
      "text/plain": [
       "array([ 0.3853401 ,  0.39403135,  0.34338167, ...,  0.18100257,\n",
       "        0.09017172, -0.1857859 ], dtype=float32)"
      ]
     },
     "execution_count": 131,
     "metadata": {},
     "output_type": "execute_result"
    }
   ],
   "source": [
    "dest_feat"
   ]
  },
  {
   "cell_type": "code",
   "execution_count": 142,
   "metadata": {},
   "outputs": [],
   "source": [
    "origin_dist = np.linalg.norm(target - origin)\n",
    "dest_dist = np.linalg.norm(target - dest_feat)\n",
    "\n",
    "origin_rate = dest_dist / (origin_dist + dest_dist)\n",
    "dest_rate = origin_dist / (origin_dist + dest_dist)"
   ]
  },
  {
   "cell_type": "code",
   "execution_count": 150,
   "metadata": {},
   "outputs": [],
   "source": [
    "interp = origin_rate * origin + dest_rate * dest_feat"
   ]
  },
  {
   "cell_type": "code",
   "execution_count": 153,
   "metadata": {},
   "outputs": [
    {
     "data": {
      "text/plain": [
       "-0.1201131596694971"
      ]
     },
     "execution_count": 153,
     "metadata": {},
     "output_type": "execute_result"
    }
   ],
   "source": [
    "(interp - target).min()"
   ]
  },
  {
   "cell_type": "code",
   "execution_count": null,
   "metadata": {
    "collapsed": true
   },
   "outputs": [],
   "source": []
  }
 ],
 "metadata": {
  "kernelspec": {
   "display_name": "Python 3",
   "language": "python",
   "name": "python3"
  },
  "language_info": {
   "codemirror_mode": {
    "name": "ipython",
    "version": 3
   },
   "file_extension": ".py",
   "mimetype": "text/x-python",
   "name": "python",
   "nbconvert_exporter": "python",
   "pygments_lexer": "ipython3",
   "version": "3.6.1"
  }
 },
 "nbformat": 4,
 "nbformat_minor": 2
}
